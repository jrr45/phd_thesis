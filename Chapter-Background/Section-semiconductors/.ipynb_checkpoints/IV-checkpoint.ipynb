{
 "cells": [
  {
   "cell_type": "code",
   "execution_count": 2,
   "metadata": {},
   "outputs": [
    {
     "data": {
      "image/png": "[encoded data removed]",
      "text/plain": [
       "<Figure size 216x216 with 1 Axes>"
      ]
     },
     "metadata": {
      "needs_background": "light"
     },
     "output_type": "display_data"
    }
   ],
   "source": [
    "# Ohmic\n",
    "import matplotlib.pyplot as plt\n",
    "import numpy as np\n",
    "import os\n",
    "from matplotlib.ticker import (MultipleLocator, FormatStrFormatter,\n",
    "                               AutoMinorLocator, LogLocator)\n",
    "\n",
    "fig = plt.figure(figsize=(3,3))\n",
    "ax = fig.add_subplot(1, 1, 1)\n",
    "\n",
    "volts = np.linspace(-1, 1, 1000)\n",
    "\n",
    "R1 = 1;\n",
    "R2 = 5;\n",
    "def OhmicI(V, R):\n",
    "    return V / R\n",
    "\n",
    "ax.plot(volts, OhmicI(volts, R1));\n",
    "ax.plot(volts, OhmicI(volts, R2));\n",
    "\n",
    "ax.spines['left'].set_position('center')\n",
    "ax.spines['right'].set_color('none')\n",
    "ax.spines['bottom'].set_position('center')\n",
    "ax.spines['top'].set_color('none')\n",
    "ax.spines['left'].set_smart_bounds(True)\n",
    "ax.spines['bottom'].set_smart_bounds(True)\n",
    "ax.xaxis.set_ticks_position('bottom')\n",
    "ax.yaxis.set_ticks_position('left')\n",
    "\n",
    "ax.set_xticklabels([])\n",
    "ax.set_yticklabels([])\n",
    "ax.tick_params(direction='inout')\n",
    "\n",
    "l=40\n",
    "plt.xlabel(' '*l + 'Voltage', fontname=\"Arial\", fontsize=10)\n",
    "plt.ylabel(' '*l + 'Current', fontname=\"Arial\", fontsize=10)\n",
    "\n",
    "ax.set_aspect(1.0/ax.get_data_ratio())\n",
    "\n",
    "fig.savefig(\"Ohmic\" +'.svg', format='svg', transparent=True, bbox_inches='tight',pad_inches=0)"
   ]
  },
  {
   "cell_type": "code",
   "execution_count": 3,
   "metadata": {},
   "outputs": [
    {
     "data": {
      "image/png": "[encoded data removed]",
      "text/plain": [
       "<Figure size 432x288 with 1 Axes>"
      ]
     },
     "metadata": {
      "needs_background": "light"
     },
     "output_type": "display_data"
    }
   ],
   "source": [
    "# SchottkyDiode no resistor\n",
    "kB = 1.38064852 * 10**-23 # J/K \n",
    "q = 1.60217662 * 10**-19 # C\n",
    "T = 300; # K\n",
    "A = 117; # A/(K^2*cm^2)\n",
    "Φ1 = .5; # V \n",
    "Φ2 = .2; # V\n",
    "\n",
    "def J0(Φ):\n",
    "    return A*(T**2)*np.exp(-q*Φ/(kB*T));\n",
    "\n",
    "J01 = J0(Φ1)\n",
    "J02 = J0(Φ2)\n",
    "\n",
    "def SchottkyDiode(V):\n",
    "    inner = q*V/(2*kB*T)\n",
    "    return (2*J01*J02*np.sinh(inner) /\n",
    "               (J01*np.exp(inner) + J02*np.exp(-inner)) )\n",
    "\n",
    "fig = plt.figure()\n",
    "ax = plt.axes()\n",
    "\n",
    "volts = np.linspace(-1, 1, 1000)\n",
    "ax.plot(volts, SchottkyDiode(volts));\n",
    "\n",
    "ax.spines['left'].set_position('center')\n",
    "ax.spines['right'].set_color('none')\n",
    "ax.spines['bottom'].set_position(('data',0))\n",
    "ax.spines['top'].set_color('none')\n",
    "ax.spines['left'].set_smart_bounds(True)\n",
    "ax.spines['bottom'].set_smart_bounds(True)\n",
    "ax.xaxis.set_ticks_position('bottom')\n",
    "ax.yaxis.set_ticks_position('left')\n",
    "\n",
    "ax.set_xticklabels([])\n",
    "ax.set_yticklabels([])\n",
    "ax.tick_params(direction='inout')\n",
    "\n",
    "l=60\n",
    "plt.xlabel(' '*l + 'Voltage', fontname=\"Arial\", fontsize=10)\n",
    "plt.ylabel(' '*l + 'Current', fontname=\"Arial\", fontsize=10)\n",
    "\n",
    "ax.set_aspect(1.0/ax.get_data_ratio())\n",
    "fig.savefig(\"SchottkyDiode\" +'.svg', format='svg', transparent=True, bbox_inches='tight',pad_inches=0)"
   ]
  },
  {
   "cell_type": "code",
   "execution_count": null,
   "metadata": {},
   "outputs": [],
   "source": [
    "# MIM Setup\n",
    "import scipy.optimize as opt\n",
    "import sys\n",
    "\n",
    "kB = 1.38064852 * 10**-23 # J/K \n",
    "q = 1.60217662 * 10**-19 # C\n",
    "T = 300; # K\n",
    "A = 117; # A/(K^2*cm^2)\n",
    "A = .0114\n",
    "#Φ1 = .5; # V \n",
    "#Φ2 = .2; # V\n",
    "n1 = 1; n2 = 1; # unitless\n",
    "#R = 1000.00; #Ohms\n",
    "SArea = (10 * 10**-9)**2; # 10nm by 10nm\n",
    "SArea = .01; #m?\n",
    "\n",
    "\n",
    "def J0(Φ):\n",
    "    return A*(T**2)*np.exp(-q*Φ/(kB*T))\n",
    "\n",
    "def V_MIM(Φ1, Φ2, R, J):\n",
    "    J01 = J0(Φ1)\n",
    "    J02 = J0(Φ2)\n",
    "    if (J/J01+1 <= 0.) or (-J/J02+1 <= 0.):\n",
    "        return 10.**100\n",
    "    return (  (n1*kB*T/q)*np.log(J/J01+1) \n",
    "            - (n2*kB*T/q)*np.log(-J/J02+1) \n",
    "            + R*SArea*J)\n",
    "\n",
    "length = 100\n",
    "volts = np.linspace(-1., 1., length)\n",
    "\n",
    "def J_MIM(Φ1, Φ2, R):\n",
    "    Js = np.empty(length)\n",
    "    guess = SchottkyDiode(volts[0])\n",
    "\n",
    "    for i, volt in enumerate(volts):\n",
    "        func = lambda current : np.abs(V_MIM(Φ1, Φ2, R, current) - volt)\n",
    "        J = opt.minimize_scalar(func, method='Golden', tol=10.**-20)\n",
    "        guess = J.x+1\n",
    "        Js[i] = J.x\n",
    "    return Js\n"
   ]
  },
  {
   "cell_type": "code",
   "execution_count": 5,
   "metadata": {},
   "outputs": [
    {
     "ename": "NameError",
     "evalue": "name 'R' is not defined",
     "output_type": "error",
     "traceback": [
      "\u001b[1;31m---------------------------------------------------------------------------\u001b[0m",
      "\u001b[1;31mNameError\u001b[0m                                 Traceback (most recent call last)",
      "\u001b[1;32m<ipython-input-5-824252cd19dc>\u001b[0m in \u001b[0;36m<module>\u001b[1;34m\u001b[0m\n\u001b[0;32m      6\u001b[0m \u001b[0mJs3\u001b[0m \u001b[1;33m=\u001b[0m \u001b[0mJ_MIM\u001b[0m\u001b[1;33m(\u001b[0m\u001b[0mΦ1\u001b[0m\u001b[1;33m=\u001b[0m\u001b[1;36m.5\u001b[0m\u001b[1;33m,\u001b[0m \u001b[0mΦ2\u001b[0m\u001b[1;33m=\u001b[0m\u001b[1;36m0\u001b[0m\u001b[1;33m,\u001b[0m \u001b[0mR\u001b[0m\u001b[1;33m=\u001b[0m\u001b[1;36m0\u001b[0m\u001b[1;33m)\u001b[0m\u001b[1;33m\u001b[0m\u001b[1;33m\u001b[0m\u001b[0m\n\u001b[0;32m      7\u001b[0m \u001b[0mJs4\u001b[0m \u001b[1;33m=\u001b[0m \u001b[0mJ_MIM\u001b[0m\u001b[1;33m(\u001b[0m\u001b[0mΦ1\u001b[0m\u001b[1;33m=\u001b[0m\u001b[1;36m.5\u001b[0m\u001b[1;33m,\u001b[0m \u001b[0mΦ2\u001b[0m\u001b[1;33m=\u001b[0m\u001b[1;36m0\u001b[0m\u001b[1;33m,\u001b[0m \u001b[0mR\u001b[0m\u001b[1;33m=\u001b[0m\u001b[1;36m.05\u001b[0m\u001b[1;33m)\u001b[0m\u001b[1;33m\u001b[0m\u001b[1;33m\u001b[0m\u001b[0m\n\u001b[1;32m----> 8\u001b[1;33m \u001b[0mMIMs\u001b[0m \u001b[1;33m=\u001b[0m \u001b[1;33m[\u001b[0m\u001b[0mV_MIM\u001b[0m\u001b[1;33m(\u001b[0m\u001b[0mΦ1\u001b[0m\u001b[1;33m,\u001b[0m \u001b[0mΦ2\u001b[0m\u001b[1;33m,\u001b[0m \u001b[0mR\u001b[0m\u001b[1;33m,\u001b[0m \u001b[0mJ\u001b[0m\u001b[1;33m)\u001b[0m \u001b[1;32mfor\u001b[0m \u001b[0mJ\u001b[0m \u001b[1;32min\u001b[0m \u001b[0mJs1\u001b[0m\u001b[1;33m]\u001b[0m\u001b[1;33m\u001b[0m\u001b[1;33m\u001b[0m\u001b[0m\n\u001b[0m\u001b[0;32m      9\u001b[0m \u001b[1;33m\u001b[0m\u001b[0m\n\u001b[0;32m     10\u001b[0m \u001b[0mfig\u001b[0m \u001b[1;33m=\u001b[0m \u001b[0mplt\u001b[0m\u001b[1;33m.\u001b[0m\u001b[0mfigure\u001b[0m\u001b[1;33m(\u001b[0m\u001b[1;33m)\u001b[0m\u001b[1;33m\u001b[0m\u001b[1;33m\u001b[0m\u001b[0m\n",
      "\u001b[1;32m<ipython-input-5-824252cd19dc>\u001b[0m in \u001b[0;36m<listcomp>\u001b[1;34m(.0)\u001b[0m\n\u001b[0;32m      6\u001b[0m \u001b[0mJs3\u001b[0m \u001b[1;33m=\u001b[0m \u001b[0mJ_MIM\u001b[0m\u001b[1;33m(\u001b[0m\u001b[0mΦ1\u001b[0m\u001b[1;33m=\u001b[0m\u001b[1;36m.5\u001b[0m\u001b[1;33m,\u001b[0m \u001b[0mΦ2\u001b[0m\u001b[1;33m=\u001b[0m\u001b[1;36m0\u001b[0m\u001b[1;33m,\u001b[0m \u001b[0mR\u001b[0m\u001b[1;33m=\u001b[0m\u001b[1;36m0\u001b[0m\u001b[1;33m)\u001b[0m\u001b[1;33m\u001b[0m\u001b[1;33m\u001b[0m\u001b[0m\n\u001b[0;32m      7\u001b[0m \u001b[0mJs4\u001b[0m \u001b[1;33m=\u001b[0m \u001b[0mJ_MIM\u001b[0m\u001b[1;33m(\u001b[0m\u001b[0mΦ1\u001b[0m\u001b[1;33m=\u001b[0m\u001b[1;36m.5\u001b[0m\u001b[1;33m,\u001b[0m \u001b[0mΦ2\u001b[0m\u001b[1;33m=\u001b[0m\u001b[1;36m0\u001b[0m\u001b[1;33m,\u001b[0m \u001b[0mR\u001b[0m\u001b[1;33m=\u001b[0m\u001b[1;36m.05\u001b[0m\u001b[1;33m)\u001b[0m\u001b[1;33m\u001b[0m\u001b[1;33m\u001b[0m\u001b[0m\n\u001b[1;32m----> 8\u001b[1;33m \u001b[0mMIMs\u001b[0m \u001b[1;33m=\u001b[0m \u001b[1;33m[\u001b[0m\u001b[0mV_MIM\u001b[0m\u001b[1;33m(\u001b[0m\u001b[0mΦ1\u001b[0m\u001b[1;33m,\u001b[0m \u001b[0mΦ2\u001b[0m\u001b[1;33m,\u001b[0m \u001b[0mR\u001b[0m\u001b[1;33m,\u001b[0m \u001b[0mJ\u001b[0m\u001b[1;33m)\u001b[0m \u001b[1;32mfor\u001b[0m \u001b[0mJ\u001b[0m \u001b[1;32min\u001b[0m \u001b[0mJs1\u001b[0m\u001b[1;33m]\u001b[0m\u001b[1;33m\u001b[0m\u001b[1;33m\u001b[0m\u001b[0m\n\u001b[0m\u001b[0;32m      9\u001b[0m \u001b[1;33m\u001b[0m\u001b[0m\n\u001b[0;32m     10\u001b[0m \u001b[0mfig\u001b[0m \u001b[1;33m=\u001b[0m \u001b[0mplt\u001b[0m\u001b[1;33m.\u001b[0m\u001b[0mfigure\u001b[0m\u001b[1;33m(\u001b[0m\u001b[1;33m)\u001b[0m\u001b[1;33m\u001b[0m\u001b[1;33m\u001b[0m\u001b[0m\n",
      "\u001b[1;31mNameError\u001b[0m: name 'R' is not defined"
     ]
    }
   ],
   "source": [
    "# SchottkyDiode calculation\n",
    "n1 = 1; n2 = 1; # unitless\n",
    "\n",
    "Js1 = J_MIM(Φ1=.2, Φ2=0, R=0)\n",
    "Js2 = J_MIM(Φ1=.2, Φ2=0, R=.05)\n",
    "Js3 = J_MIM(Φ1=.5, Φ2=0, R=0)\n",
    "Js4 = J_MIM(Φ1=.5, Φ2=0, R=.05)\n",
    "MIMs = [V_MIM(Φ1, Φ2, R, J) for J in Js1]\n",
    "\n",
    "fig = plt.figure()\n",
    "ax = plt.axes()\n",
    "ax.plot(volts, Js1);\n",
    "ax.plot(volts, Js2);\n",
    "ax.plot(volts, Js3);\n",
    "ax.plot(volts, Js4);"
   ]
  },
  {
   "cell_type": "code",
   "execution_count": null,
   "metadata": {},
   "outputs": [],
   "source": [
    "# MIM calculation\n",
    "n1 = 1; n2 = 1; # unitless\n",
    "Js1 = J_MIM(Φ1=.2, Φ2=.2, R=0)\n",
    "n1 = 1; n2 = 2; # unitless\n",
    "Js2 = J_MIM(Φ1=.2, Φ2=.2, R=.05)\n",
    "Js3 = J_MIM(Φ1=.5, Φ2=.2, R=0)\n",
    "Js4 = J_MIM(Φ1=.5, Φ2=.2, R=.05)\n",
    "MIMs = [V_MIM(Φ1, Φ2, R, J) for J in Js1]\n",
    "ax.plot(volts, Js1);\n",
    "ax.plot(volts, Js2);\n",
    "ax.plot(volts, Js3);\n",
    "ax.plot(volts, Js4);"
   ]
  },
  {
   "cell_type": "code",
   "execution_count": 7,
   "metadata": {},
   "outputs": [
    {
     "data": {
      "text/plain": [
       "Text(0, 0.5, '                                        Current')"
      ]
     },
     "execution_count": 7,
     "metadata": {},
     "output_type": "execute_result"
    },
    {
     "data": {
      "image/png": "[encoded data removed]",
      "text/plain": [
       "<Figure size 216x216 with 1 Axes>"
      ]
     },
     "metadata": {
      "needs_background": "light"
     },
     "output_type": "display_data"
    }
   ],
   "source": [
    "# MIM log plot\n",
    "fig = plt.figure(figsize=(3,3))\n",
    "ax = plt.axes()\n",
    "ax.set_yscale('log')\n",
    "\n",
    "ax.plot(volts, np.abs(Js1));\n",
    "ax.plot(volts, np.abs(Js2));\n",
    "#ax.plot(volts, np.abs(Js3));\n",
    "#ax.plot(volts, np.abs(Js4));\n",
    "\n",
    "ax.spines['left'].set_position('center')\n",
    "ax.spines['right'].set_color('none')\n",
    "#ax.spines['bottom'].set_position('bottom')\n",
    "ax.spines['top'].set_color('none')\n",
    "ax.spines['left'].set_smart_bounds(True)\n",
    "ax.spines['bottom'].set_smart_bounds(True)\n",
    "ax.xaxis.set_ticks_position('bottom')\n",
    "ax.yaxis.set_ticks_position('left')\n",
    "\n",
    "ax.set_xticklabels([])\n",
    "ax.set_yticklabels([])\n",
    "ax.tick_params(direction='inout')\n",
    "ax.yaxis.set_major_locator(LogLocator(base=10.0, numticks=10))\n",
    "\n",
    "\n",
    "l=40\n",
    "plt.xlabel(' '*l + 'Voltage', fontname=\"Arial\", fontsize=10)\n",
    "plt.ylabel(' '*l + 'Current', fontname=\"Arial\", fontsize=10)\n",
    "\n",
    "#ax.set_aspect(1.0/ax.get_data_ratio(), adjustable='box')\n",
    "#fig.savefig(\"SchottkyDiode_log\" +'.svg', format='svg', transparent=True, bbox_inches='tight',pad_inches=0)"
   ]
  },
  {
   "cell_type": "code",
   "execution_count": 6,
   "metadata": {},
   "outputs": [
    {
     "data": {
      "image/png": "[encoded data removed]",
      "text/plain": [
       "<Figure size 216x216 with 1 Axes>"
      ]
     },
     "metadata": {
      "needs_background": "light"
     },
     "output_type": "display_data"
    }
   ],
   "source": [
    "# MIM linear plot\n",
    "fig = plt.figure(figsize=(3,3))\n",
    "ax = plt.axes()\n",
    "ax.plot(volts, Js1);\n",
    "ax.plot(volts, Js2);\n",
    "ax.plot(volts, Js3);\n",
    "ax.plot(volts, Js4);\n",
    "\n",
    "ax.spines['left'].set_position('center')\n",
    "ax.spines['right'].set_color('none')\n",
    "ax.spines['bottom'].set_position(('data',0))\n",
    "ax.spines['top'].set_color('none')\n",
    "ax.spines['left'].set_smart_bounds(True)\n",
    "ax.spines['bottom'].set_smart_bounds(True)\n",
    "ax.xaxis.set_ticks_position('bottom')\n",
    "ax.yaxis.set_ticks_position('left')\n",
    "\n",
    "ax.set_xticklabels([])\n",
    "ax.set_yticklabels([])\n",
    "ax.tick_params(direction='inout')\n",
    "\n",
    "\n",
    "l=40\n",
    "plt.xlabel(' '*l + 'Voltage', fontname=\"Arial\", fontsize=10)\n",
    "plt.ylabel(' '*l + 'Current', fontname=\"Arial\", fontsize=10)\n",
    "\n",
    "ax.set_aspect(1.0/ax.get_data_ratio(), adjustable='box')\n",
    "#fig.savefig(\"SchottkyDiode_linear\" +'.svg', format='svg', transparent=True, bbox_inches='tight',pad_inches=0)"
   ]
  },
  {
   "cell_type": "code",
   "execution_count": null,
   "metadata": {},
   "outputs": [],
   "source": []
  }
 ],
 "metadata": {
  "file_extension": ".py",
  "kernelspec": {
   "display_name": "Python 3",
   "language": "python",
   "name": "python3"
  },
  "language_info": {
   "codemirror_mode": {
    "name": "ipython",
    "version": 3
   },
   "file_extension": ".py",
   "mimetype": "text/x-python",
   "name": "python",
   "nbconvert_exporter": "python",
   "pygments_lexer": "ipython3",
   "version": "3.8.1"
  },
  "mimetype": "text/x-python",
  "name": "python",
  "npconvert_exporter": "python",
  "pygments_lexer": "ipython3",
  "version": 3
 },
 "nbformat": 4,
 "nbformat_minor": 2
}
